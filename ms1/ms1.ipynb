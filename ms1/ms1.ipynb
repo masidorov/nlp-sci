{
 "cells": [
  {
   "cell_type": "code",
   "execution_count": 2,
   "outputs": [],
   "source": [
    "# Import necessary packages and settings\n",
    "import json\n",
    "import spacy\n"
   ],
   "metadata": {
    "collapsed": false,
    "pycharm": {
     "name": "#%%\n"
    }
   }
  },
  {
   "cell_type": "code",
   "execution_count": 3,
   "outputs": [],
   "source": [
    "# Source of wisdom: https://machinelearningknowledge.ai/complete-guide-to-spacy-tokenizer-with-examples/\n",
    "# downloaded model: python -m spacy download en_core_web_sm\n",
    "# link to the model: https://spacy.io/models/en\n",
    "#text classification on spacy: https://www.dataquest.io/blog/tutorial-text-classification-in-python-using-spacy/\n",
    "\n",
    "\n",
    "def tokenizer(nlp, text):\n",
    "    doc = nlp(text.lower())\n",
    "    tokens = [t.lemma_ for t in doc if not t.is_punct and not t.is_stop]\n",
    "    return tokens\n",
    "\n",
    "\n",
    "nlp = spacy.load(\"en_core_web_sm\")\n",
    "fp = open('/Users/msidorov/education/manning/spacy-scikit/data/data.json')\n",
    "jtext = json.load(fp)\n",
    "\n",
    "# results lists\n",
    "titles = [t['title'] for t in jtext]\n",
    "texts = [[t['text'] for t in jtext]]\n",
    "tokenized_text = [tokenizer(nlp, t['text']) for t in jtext]\n",
    "urls = [[t['url'] for t in jtext]]\n",
    "\n",
    "new_list = [{'title': t['title'],\n",
    "             'text': t['text'],\n",
    "             'tokenized_text': tokenizer(nlp, t['text']),\n",
    "             'url': t['url']} for t in jtext]\n",
    "\n",
    "\n",
    "\n",
    "with open(\"/Users/msidorov/temp/result.json\", \"w+\") as outfile:\n",
    "    json.dump(new_list, outfile)"
   ],
   "metadata": {
    "collapsed": false,
    "pycharm": {
     "name": "#%%\n"
    }
   }
  },
  {
   "cell_type": "code",
   "execution_count": 2,
   "outputs": [],
   "source": [],
   "metadata": {
    "collapsed": false,
    "pycharm": {
     "name": "#%%\n"
    }
   }
  },
  {
   "cell_type": "code",
   "execution_count": 2,
   "outputs": [],
   "source": [],
   "metadata": {
    "collapsed": false,
    "pycharm": {
     "name": "#%%\n"
    }
   }
  }
 ],
 "metadata": {
  "kernelspec": {
   "name": "python3",
   "language": "python",
   "display_name": "Python 3 (ipykernel)"
  },
  "language_info": {
   "codemirror_mode": {
    "name": "ipython",
    "version": 2
   },
   "file_extension": ".py",
   "mimetype": "text/x-python",
   "name": "python",
   "nbconvert_exporter": "python",
   "pygments_lexer": "ipython2",
   "version": "2.7.6"
  }
 },
 "nbformat": 4,
 "nbformat_minor": 0
}